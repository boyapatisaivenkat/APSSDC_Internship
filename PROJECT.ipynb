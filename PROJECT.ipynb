{
 "cells": [
  {
   "cell_type": "code",
   "execution_count": 1,
   "metadata": {},
   "outputs": [],
   "source": [
    "import numpy as np\n",
    "import pandas as pd\n",
    "import matplotlib.pyplot as plt\n",
    "%matplotlib inline"
   ]
  },
  {
   "cell_type": "code",
   "execution_count": 2,
   "metadata": {},
   "outputs": [],
   "source": [
    "df = pd.read_csv('C:\\\\Users\\\\Dell\\\\Desktop\\\\Reviews.csv')"
   ]
  },
  {
   "cell_type": "code",
   "execution_count": 3,
   "metadata": {},
   "outputs": [
    {
     "data": {
      "text/html": [
       "<div>\n",
       "<style scoped>\n",
       "    .dataframe tbody tr th:only-of-type {\n",
       "        vertical-align: middle;\n",
       "    }\n",
       "\n",
       "    .dataframe tbody tr th {\n",
       "        vertical-align: top;\n",
       "    }\n",
       "\n",
       "    .dataframe thead th {\n",
       "        text-align: right;\n",
       "    }\n",
       "</style>\n",
       "<table border=\"1\" class=\"dataframe\">\n",
       "  <thead>\n",
       "    <tr style=\"text-align: right;\">\n",
       "      <th></th>\n",
       "      <th>Id</th>\n",
       "      <th>ProductId</th>\n",
       "      <th>UserId</th>\n",
       "      <th>Product</th>\n",
       "      <th>company</th>\n",
       "      <th>Score</th>\n",
       "      <th>Text</th>\n",
       "    </tr>\n",
       "  </thead>\n",
       "  <tbody>\n",
       "    <tr>\n",
       "      <th>0</th>\n",
       "      <td>1</td>\n",
       "      <td>B001E4KFG0</td>\n",
       "      <td>A3SGXH7AUHU8GW</td>\n",
       "      <td>Paracetmol</td>\n",
       "      <td>AbbVie Ltd</td>\n",
       "      <td>5</td>\n",
       "      <td>I have bought the same medice from different b...</td>\n",
       "    </tr>\n",
       "    <tr>\n",
       "      <th>1</th>\n",
       "      <td>2</td>\n",
       "      <td>B00813GRG4</td>\n",
       "      <td>A1D87F6ZCVE5NK</td>\n",
       "      <td>Paracetmol</td>\n",
       "      <td>Accord-UK Ltd</td>\n",
       "      <td>1</td>\n",
       "      <td>The medicine is not good as expected</td>\n",
       "    </tr>\n",
       "    <tr>\n",
       "      <th>2</th>\n",
       "      <td>3</td>\n",
       "      <td>B000LQOCH0</td>\n",
       "      <td>ABXLMWJIXXAIN</td>\n",
       "      <td>Paracetmol</td>\n",
       "      <td>Aguettant Ltd</td>\n",
       "      <td>4</td>\n",
       "      <td>I received the medicines which I ordered and I...</td>\n",
       "    </tr>\n",
       "    <tr>\n",
       "      <th>3</th>\n",
       "      <td>4</td>\n",
       "      <td>B000UA0QIQ</td>\n",
       "      <td>A395BORC6FGVXV</td>\n",
       "      <td>Paracetmol</td>\n",
       "      <td>AJ Vaccines A/S</td>\n",
       "      <td>3</td>\n",
       "      <td>The medicine is better</td>\n",
       "    </tr>\n",
       "    <tr>\n",
       "      <th>4</th>\n",
       "      <td>5</td>\n",
       "      <td>B006K2ZZ7K</td>\n",
       "      <td>A1UQRSCLF8GW1T</td>\n",
       "      <td>Paracetmol</td>\n",
       "      <td>Allergan Ltd</td>\n",
       "      <td>2</td>\n",
       "      <td>I ordered some medicines using the website but...</td>\n",
       "    </tr>\n",
       "    <tr>\n",
       "      <th>5</th>\n",
       "      <td>6</td>\n",
       "      <td>B006K2ZZ7K</td>\n",
       "      <td>ADT0SRK1MGOEU</td>\n",
       "      <td>Product</td>\n",
       "      <td>AbbVie Ltd</td>\n",
       "      <td>4</td>\n",
       "      <td>I received the medicines which I ordered and I...</td>\n",
       "    </tr>\n",
       "    <tr>\n",
       "      <th>6</th>\n",
       "      <td>7</td>\n",
       "      <td>B006K2ZZ7K</td>\n",
       "      <td>A1SP2KVKFXXRU1</td>\n",
       "      <td>Paracetmol</td>\n",
       "      <td>Accord-UK Ltd</td>\n",
       "      <td>5</td>\n",
       "      <td>I have bought the same medice from different b...</td>\n",
       "    </tr>\n",
       "    <tr>\n",
       "      <th>7</th>\n",
       "      <td>8</td>\n",
       "      <td>B006K2ZZ7K</td>\n",
       "      <td>A3JRGQVEQN31IQ</td>\n",
       "      <td>Paracetmol</td>\n",
       "      <td>Aguettant Ltd</td>\n",
       "      <td>3</td>\n",
       "      <td>The medicine is better</td>\n",
       "    </tr>\n",
       "    <tr>\n",
       "      <th>8</th>\n",
       "      <td>9</td>\n",
       "      <td>B000E7L2R4</td>\n",
       "      <td>A1MZYO9TZK0BBI</td>\n",
       "      <td>Paracetmol</td>\n",
       "      <td>AJ Vaccines A/S</td>\n",
       "      <td>5</td>\n",
       "      <td>I have bought the same medice from different b...</td>\n",
       "    </tr>\n",
       "    <tr>\n",
       "      <th>9</th>\n",
       "      <td>10</td>\n",
       "      <td>B00171APVA</td>\n",
       "      <td>A21BT40VZCCYT4</td>\n",
       "      <td>Paracetmol</td>\n",
       "      <td>Allergan Ltd</td>\n",
       "      <td>5</td>\n",
       "      <td>I have bought the same medice from different b...</td>\n",
       "    </tr>\n",
       "    <tr>\n",
       "      <th>10</th>\n",
       "      <td>11</td>\n",
       "      <td>B0001PB9FE</td>\n",
       "      <td>A3HDKO7OW0QNK4</td>\n",
       "      <td>Paracetmol</td>\n",
       "      <td>AbbVie Ltd</td>\n",
       "      <td>2</td>\n",
       "      <td>This is not as expected</td>\n",
       "    </tr>\n",
       "    <tr>\n",
       "      <th>11</th>\n",
       "      <td>12</td>\n",
       "      <td>B0009XLVG0</td>\n",
       "      <td>A2725IB4YY9JEB</td>\n",
       "      <td>Product</td>\n",
       "      <td>Accord-UK Ltd</td>\n",
       "      <td>5</td>\n",
       "      <td>I have bought the same medice from different b...</td>\n",
       "    </tr>\n",
       "    <tr>\n",
       "      <th>12</th>\n",
       "      <td>13</td>\n",
       "      <td>B0009XLVG0</td>\n",
       "      <td>A327PCT23YH90</td>\n",
       "      <td>Paracetmol</td>\n",
       "      <td>Aguettant Ltd</td>\n",
       "      <td>1</td>\n",
       "      <td>The medice is not good as expected</td>\n",
       "    </tr>\n",
       "    <tr>\n",
       "      <th>13</th>\n",
       "      <td>14</td>\n",
       "      <td>B001GVISJM</td>\n",
       "      <td>A18ECVX2RJ7HUE</td>\n",
       "      <td>Paracetmol</td>\n",
       "      <td>AJ Vaccines A/S</td>\n",
       "      <td>4</td>\n",
       "      <td>I received the medicines which I ordered and I...</td>\n",
       "    </tr>\n",
       "    <tr>\n",
       "      <th>14</th>\n",
       "      <td>15</td>\n",
       "      <td>B001GVISJM</td>\n",
       "      <td>A2MUGFV2TDQ47K</td>\n",
       "      <td>Paracetmol</td>\n",
       "      <td>Allergan Ltd</td>\n",
       "      <td>5</td>\n",
       "      <td>I have bought the same medice from different b...</td>\n",
       "    </tr>\n",
       "  </tbody>\n",
       "</table>\n",
       "</div>"
      ],
      "text/plain": [
       "    Id   ProductId          UserId     Product          company  Score  \\\n",
       "0    1  B001E4KFG0  A3SGXH7AUHU8GW  Paracetmol       AbbVie Ltd      5   \n",
       "1    2  B00813GRG4  A1D87F6ZCVE5NK  Paracetmol    Accord-UK Ltd      1   \n",
       "2    3  B000LQOCH0   ABXLMWJIXXAIN  Paracetmol    Aguettant Ltd      4   \n",
       "3    4  B000UA0QIQ  A395BORC6FGVXV  Paracetmol  AJ Vaccines A/S      3   \n",
       "4    5  B006K2ZZ7K  A1UQRSCLF8GW1T  Paracetmol     Allergan Ltd      2   \n",
       "5    6  B006K2ZZ7K   ADT0SRK1MGOEU     Product       AbbVie Ltd      4   \n",
       "6    7  B006K2ZZ7K  A1SP2KVKFXXRU1  Paracetmol    Accord-UK Ltd      5   \n",
       "7    8  B006K2ZZ7K  A3JRGQVEQN31IQ  Paracetmol    Aguettant Ltd      3   \n",
       "8    9  B000E7L2R4  A1MZYO9TZK0BBI  Paracetmol  AJ Vaccines A/S      5   \n",
       "9   10  B00171APVA  A21BT40VZCCYT4  Paracetmol     Allergan Ltd      5   \n",
       "10  11  B0001PB9FE  A3HDKO7OW0QNK4  Paracetmol       AbbVie Ltd      2   \n",
       "11  12  B0009XLVG0  A2725IB4YY9JEB     Product    Accord-UK Ltd      5   \n",
       "12  13  B0009XLVG0   A327PCT23YH90  Paracetmol    Aguettant Ltd      1   \n",
       "13  14  B001GVISJM  A18ECVX2RJ7HUE  Paracetmol  AJ Vaccines A/S      4   \n",
       "14  15  B001GVISJM  A2MUGFV2TDQ47K  Paracetmol     Allergan Ltd      5   \n",
       "\n",
       "                                                 Text  \n",
       "0   I have bought the same medice from different b...  \n",
       "1               The medicine is not good as expected   \n",
       "2   I received the medicines which I ordered and I...  \n",
       "3                             The medicine is better   \n",
       "4   I ordered some medicines using the website but...  \n",
       "5   I received the medicines which I ordered and I...  \n",
       "6   I have bought the same medice from different b...  \n",
       "7                             The medicine is better   \n",
       "8   I have bought the same medice from different b...  \n",
       "9   I have bought the same medice from different b...  \n",
       "10                           This is not as expected   \n",
       "11  I have bought the same medice from different b...  \n",
       "12                The medice is not good as expected   \n",
       "13  I received the medicines which I ordered and I...  \n",
       "14  I have bought the same medice from different b...  "
      ]
     },
     "execution_count": 3,
     "metadata": {},
     "output_type": "execute_result"
    }
   ],
   "source": [
    "df.head(15)"
   ]
  },
  {
   "cell_type": "code",
   "execution_count": 4,
   "metadata": {},
   "outputs": [
    {
     "data": {
      "text/plain": [
       "(15, 7)"
      ]
     },
     "execution_count": 4,
     "metadata": {},
     "output_type": "execute_result"
    }
   ],
   "source": [
    "df.shape"
   ]
  },
  {
   "cell_type": "code",
   "execution_count": 5,
   "metadata": {},
   "outputs": [
    {
     "name": "stdout",
     "output_type": "stream",
     "text": [
      "Requirement already satisfied: textblob in d:\\anaconda-new\\lib\\site-packages (0.15.3)\n",
      "Requirement already satisfied: nltk>=3.1 in d:\\anaconda-new\\lib\\site-packages (from textblob) (3.5)\n",
      "Requirement already satisfied: regex in d:\\anaconda-new\\lib\\site-packages (from nltk>=3.1->textblob) (2020.10.15)\n",
      "Requirement already satisfied: click in d:\\anaconda-new\\lib\\site-packages (from nltk>=3.1->textblob) (7.1.2)\n",
      "Requirement already satisfied: joblib in d:\\anaconda-new\\lib\\site-packages (from nltk>=3.1->textblob) (0.17.0)\n",
      "Requirement already satisfied: tqdm in d:\\anaconda-new\\lib\\site-packages (from nltk>=3.1->textblob) (4.50.2)\n"
     ]
    }
   ],
   "source": [
    "! pip install textblob"
   ]
  },
  {
   "cell_type": "code",
   "execution_count": 6,
   "metadata": {},
   "outputs": [],
   "source": [
    "from nltk.corpus import stopwords \n",
    "from textblob import TextBlob\n",
    "from textblob import Word\n",
    "\n",
    "df['Text'] = df['Text'].apply(lambda x: \" \".join(x.lower() for\n",
    "x in x.split()))# Lower casing and removing punctuations\n"
   ]
  },
  {
   "cell_type": "code",
   "execution_count": 7,
   "metadata": {},
   "outputs": [
    {
     "data": {
      "text/plain": [
       "0                   bought medice different brands good\n",
       "1                                medicine good expected\n",
       "2       received medicines ordered happy fast delivery.\n",
       "3                                       medicine better\n",
       "4     ordered medicines using website found expire d...\n",
       "5       received medicines ordered happy fast delivery.\n",
       "6                   bought medice different brands good\n",
       "7                                       medicine better\n",
       "8                   bought medice different brands good\n",
       "9                   bought medice different brands good\n",
       "10                                             expected\n",
       "11                  bought medice different brands good\n",
       "12                                 medice good expected\n",
       "13      received medicines ordered happy fast delivery.\n",
       "14                  bought medice different brands good\n",
       "Name: Text, dtype: object"
      ]
     },
     "execution_count": 7,
     "metadata": {},
     "output_type": "execute_result"
    }
   ],
   "source": [
    " #Removal of stopwords\n",
    "stop = stopwords.words('english')\n",
    "df['Text'] = df['Text'].apply(lambda x: \" \".join(x for x in\n",
    "x.split() if x not in stop))\n",
    "df.Text.head(15)"
   ]
  },
  {
   "cell_type": "code",
   "execution_count": 8,
   "metadata": {},
   "outputs": [
    {
     "name": "stderr",
     "output_type": "stream",
     "text": [
      "[nltk_data] Downloading package wordnet to\n",
      "[nltk_data]     C:\\Users\\Dell\\AppData\\Roaming\\nltk_data...\n",
      "[nltk_data]   Package wordnet is already up-to-date!\n"
     ]
    },
    {
     "data": {
      "text/plain": [
       "True"
      ]
     },
     "execution_count": 8,
     "metadata": {},
     "output_type": "execute_result"
    }
   ],
   "source": [
    "import nltk\n",
    "nltk.download('wordnet')"
   ]
  },
  {
   "cell_type": "code",
   "execution_count": 9,
   "metadata": {},
   "outputs": [
    {
     "data": {
      "text/plain": [
       "0                    bought medice different brand good\n",
       "1                                medicine good expected\n",
       "2        received medicine ordered happy fast delivery.\n",
       "3                                       medicine better\n",
       "4     ordered medicine using website found expire da...\n",
       "5        received medicine ordered happy fast delivery.\n",
       "6                    bought medice different brand good\n",
       "7                                       medicine better\n",
       "8                    bought medice different brand good\n",
       "9                    bought medice different brand good\n",
       "10                                             expected\n",
       "11                   bought medice different brand good\n",
       "12                                 medice good expected\n",
       "13       received medicine ordered happy fast delivery.\n",
       "14                   bought medice different brand good\n",
       "Name: Text, dtype: object"
      ]
     },
     "execution_count": 9,
     "metadata": {},
     "output_type": "execute_result"
    }
   ],
   "source": [
    "df['Text'] = df['Text'].apply(lambda x: \" \".join([Word(word).lemmatize() for word in x.split()]))\n",
    "df.Text.head(15)"
   ]
  },
  {
   "cell_type": "code",
   "execution_count": 10,
   "metadata": {},
   "outputs": [],
   "source": [
    "import seaborn as sns"
   ]
  },
  {
   "cell_type": "code",
   "execution_count": 11,
   "metadata": {},
   "outputs": [
    {
     "data": {
      "text/plain": [
       "<AxesSubplot:xlabel='Score', ylabel='count'>"
      ]
     },
     "execution_count": 11,
     "metadata": {},
     "output_type": "execute_result"
    },
    {
     "data": {
      "image/png": "[encoded data removed]",
      "text/plain": [
       "<Figure size 432x288 with 1 Axes>"
      ]
     },
     "metadata": {
      "needs_background": "light"
     },
     "output_type": "display_data"
    }
   ],
   "source": [
    "sns.countplot(data = df, x = 'Score')"
   ]
  },
  {
   "cell_type": "code",
   "execution_count": 12,
   "metadata": {},
   "outputs": [],
   "source": [
    "reviews = df\n",
    "# Dropping null values\n",
    "reviews.dropna(inplace=True)"
   ]
  },
  {
   "cell_type": "code",
   "execution_count": 13,
   "metadata": {},
   "outputs": [],
   "source": [
    "rating_1 = reviews[reviews['Score'] == 1]\n",
    "rating_2 = reviews[reviews['Score'] == 2]\n",
    "rating_3 = reviews[reviews['Score'] == 3]\n",
    "rating_4 = reviews[reviews['Score'] == 4]\n",
    "rating_5 = reviews[reviews['Score'] == 5]"
   ]
  },
  {
   "cell_type": "code",
   "execution_count": 14,
   "metadata": {},
   "outputs": [],
   "source": [
    "reviews_sample = pd.concat([rating_1,rating_2,rating_3,rating_4,rating_5],axis=0)\n",
    "reviews_sample.reset_index(drop=True,inplace=True)"
   ]
  },
  {
   "cell_type": "code",
   "execution_count": 15,
   "metadata": {},
   "outputs": [
    {
     "name": "stdout",
     "output_type": "stream",
     "text": [
      "0                                medicine good expected\n",
      "1                                  medice good expected\n",
      "2     ordered medicine using website found expire da...\n",
      "3                                              expected\n",
      "4                                       medicine better\n",
      "5                                       medicine better\n",
      "6        received medicine ordered happy fast delivery.\n",
      "7        received medicine ordered happy fast delivery.\n",
      "8        received medicine ordered happy fast delivery.\n",
      "9                    bought medice different brand good\n",
      "10                   bought medice different brand good\n",
      "11                   bought medice different brand good\n",
      "12                   bought medice different brand good\n",
      "13                   bought medice different brand good\n",
      "14                   bought medice different brand good\n",
      "Name: Text, dtype: object\n"
     ]
    }
   ],
   "source": [
    "print(reviews_sample.Text)"
   ]
  },
  {
   "cell_type": "code",
   "execution_count": 22,
   "metadata": {},
   "outputs": [
    {
     "name": "stdout",
     "output_type": "stream",
     "text": [
      "0                               medicine good expected\n",
      "1                                 medice good expected\n",
      "2    ordered medicine using website found expire da...\n",
      "3                                             expected\n",
      "Name: Text, dtype: object\n"
     ]
    }
   ],
   "source": [
    "#spliting the data into Negative (Score is 1 or 2) and Positive (4 or 5) Reviews.\n",
    "negative_reviews = reviews_sample[reviews_sample['Score'].isin([1,2]) ]\n",
    "positive_reviews = reviews_sample[reviews_sample['Score'].isin([4,5]) ]\n",
    "\n",
    "print(negative_reviews.Text)\n"
   ]
  },
  {
   "cell_type": "code",
   "execution_count": 23,
   "metadata": {},
   "outputs": [
    {
     "name": "stdout",
     "output_type": "stream",
     "text": [
      "6     received medicine ordered happy fast delivery.\n",
      "7     received medicine ordered happy fast delivery.\n",
      "8     received medicine ordered happy fast delivery.\n",
      "9                 bought medice different brand good\n",
      "10                bought medice different brand good\n",
      "11                bought medice different brand good\n",
      "12                bought medice different brand good\n",
      "13                bought medice different brand good\n",
      "14                bought medice different brand good\n",
      "Name: Text, dtype: object\n"
     ]
    }
   ],
   "source": [
    "print(positive_reviews.Text)"
   ]
  },
  {
   "cell_type": "code",
   "execution_count": 16,
   "metadata": {},
   "outputs": [
    {
     "name": "stdout",
     "output_type": "stream",
     "text": [
      "Requirement already satisfied: vaderSentiment in d:\\anaconda-new\\lib\\site-packages (3.3.2)\n",
      "Requirement already satisfied: requests in d:\\anaconda-new\\lib\\site-packages (from vaderSentiment) (2.24.0)\n",
      "Requirement already satisfied: idna<3,>=2.5 in d:\\anaconda-new\\lib\\site-packages (from requests->vaderSentiment) (2.10)\n",
      "Requirement already satisfied: chardet<4,>=3.0.2 in d:\\anaconda-new\\lib\\site-packages (from requests->vaderSentiment) (3.0.4)\n",
      "Requirement already satisfied: certifi>=2017.4.17 in d:\\anaconda-new\\lib\\site-packages (from requests->vaderSentiment) (2020.6.20)\n",
      "Requirement already satisfied: urllib3!=1.25.0,!=1.25.1,<1.26,>=1.21.1 in d:\\anaconda-new\\lib\\site-packages (from requests->vaderSentiment) (1.25.11)\n"
     ]
    }
   ],
   "source": [
    "!pip install vaderSentiment"
   ]
  },
  {
   "cell_type": "code",
   "execution_count": 17,
   "metadata": {},
   "outputs": [],
   "source": [
    "import seaborn as sns\n",
    "import re\n",
    "import os\n",
    "import sys\n",
    "import ast\n",
    "plt.style.use('fivethirtyeight')\n",
    "# Function for getting the sentiment\n",
    "cp = sns.color_palette()\n",
    "from vaderSentiment.vaderSentiment import SentimentIntensityAnalyzer\n",
    "analyzer = SentimentIntensityAnalyzer()"
   ]
  },
  {
   "cell_type": "code",
   "execution_count": 18,
   "metadata": {},
   "outputs": [
    {
     "data": {
      "text/html": [
       "<div>\n",
       "<style scoped>\n",
       "    .dataframe tbody tr th:only-of-type {\n",
       "        vertical-align: middle;\n",
       "    }\n",
       "\n",
       "    .dataframe tbody tr th {\n",
       "        vertical-align: top;\n",
       "    }\n",
       "\n",
       "    .dataframe thead th {\n",
       "        text-align: right;\n",
       "    }\n",
       "</style>\n",
       "<table border=\"1\" class=\"dataframe\">\n",
       "  <thead>\n",
       "    <tr style=\"text-align: right;\">\n",
       "      <th></th>\n",
       "      <th>neg</th>\n",
       "      <th>neu</th>\n",
       "      <th>pos</th>\n",
       "      <th>compound</th>\n",
       "    </tr>\n",
       "  </thead>\n",
       "  <tbody>\n",
       "    <tr>\n",
       "      <th>0</th>\n",
       "      <td>0.000</td>\n",
       "      <td>0.757</td>\n",
       "      <td>0.243</td>\n",
       "      <td>0.5927</td>\n",
       "    </tr>\n",
       "    <tr>\n",
       "      <th>1</th>\n",
       "      <td>0.286</td>\n",
       "      <td>0.714</td>\n",
       "      <td>0.000</td>\n",
       "      <td>-0.3412</td>\n",
       "    </tr>\n",
       "    <tr>\n",
       "      <th>2</th>\n",
       "      <td>0.000</td>\n",
       "      <td>0.760</td>\n",
       "      <td>0.240</td>\n",
       "      <td>0.6948</td>\n",
       "    </tr>\n",
       "    <tr>\n",
       "      <th>3</th>\n",
       "      <td>0.000</td>\n",
       "      <td>0.508</td>\n",
       "      <td>0.492</td>\n",
       "      <td>0.4404</td>\n",
       "    </tr>\n",
       "    <tr>\n",
       "      <th>4</th>\n",
       "      <td>0.143</td>\n",
       "      <td>0.826</td>\n",
       "      <td>0.032</td>\n",
       "      <td>-0.7218</td>\n",
       "    </tr>\n",
       "  </tbody>\n",
       "</table>\n",
       "</div>"
      ],
      "text/plain": [
       "     neg    neu    pos  compound\n",
       "0  0.000  0.757  0.243    0.5927\n",
       "1  0.286  0.714  0.000   -0.3412\n",
       "2  0.000  0.760  0.240    0.6948\n",
       "3  0.000  0.508  0.492    0.4404\n",
       "4  0.143  0.826  0.032   -0.7218"
      ]
     },
     "execution_count": 18,
     "metadata": {},
     "output_type": "execute_result"
    }
   ],
   "source": [
    "# Generating sentiment for all the sentence present in the dataset\n",
    "emptyline=[]\n",
    "df = pd.read_csv('C:\\\\Users\\\\Dell\\\\Desktop\\\\Reviews.csv')\n",
    "for row in df['Text']:\n",
    "    \n",
    "    vs=analyzer.polarity_scores(row)\n",
    "    emptyline.append(vs)\n",
    "# Creating new dataframe with sentiments\n",
    "df_sentiments=pd.DataFrame(emptyline)\n",
    "df_sentiments.head()"
   ]
  },
  {
   "cell_type": "code",
   "execution_count": 19,
   "metadata": {},
   "outputs": [
    {
     "data": {
      "text/html": [
       "<div>\n",
       "<style scoped>\n",
       "    .dataframe tbody tr th:only-of-type {\n",
       "        vertical-align: middle;\n",
       "    }\n",
       "\n",
       "    .dataframe tbody tr th {\n",
       "        vertical-align: top;\n",
       "    }\n",
       "\n",
       "    .dataframe thead th {\n",
       "        text-align: right;\n",
       "    }\n",
       "</style>\n",
       "<table border=\"1\" class=\"dataframe\">\n",
       "  <thead>\n",
       "    <tr style=\"text-align: right;\">\n",
       "      <th></th>\n",
       "      <th>Id</th>\n",
       "      <th>ProductId</th>\n",
       "      <th>UserId</th>\n",
       "      <th>Product</th>\n",
       "      <th>company</th>\n",
       "      <th>Score</th>\n",
       "      <th>Text</th>\n",
       "      <th>neg</th>\n",
       "      <th>neu</th>\n",
       "      <th>pos</th>\n",
       "      <th>compound</th>\n",
       "    </tr>\n",
       "  </thead>\n",
       "  <tbody>\n",
       "    <tr>\n",
       "      <th>0</th>\n",
       "      <td>1</td>\n",
       "      <td>B001E4KFG0</td>\n",
       "      <td>A3SGXH7AUHU8GW</td>\n",
       "      <td>Paracetmol</td>\n",
       "      <td>AbbVie Ltd</td>\n",
       "      <td>5</td>\n",
       "      <td>I have bought the same medice from different b...</td>\n",
       "      <td>0.000</td>\n",
       "      <td>0.757</td>\n",
       "      <td>0.243</td>\n",
       "      <td>0.5927</td>\n",
       "    </tr>\n",
       "    <tr>\n",
       "      <th>1</th>\n",
       "      <td>2</td>\n",
       "      <td>B00813GRG4</td>\n",
       "      <td>A1D87F6ZCVE5NK</td>\n",
       "      <td>Paracetmol</td>\n",
       "      <td>Accord-UK Ltd</td>\n",
       "      <td>1</td>\n",
       "      <td>The medicine is not good as expected</td>\n",
       "      <td>0.286</td>\n",
       "      <td>0.714</td>\n",
       "      <td>0.000</td>\n",
       "      <td>-0.3412</td>\n",
       "    </tr>\n",
       "    <tr>\n",
       "      <th>2</th>\n",
       "      <td>3</td>\n",
       "      <td>B000LQOCH0</td>\n",
       "      <td>ABXLMWJIXXAIN</td>\n",
       "      <td>Paracetmol</td>\n",
       "      <td>Aguettant Ltd</td>\n",
       "      <td>4</td>\n",
       "      <td>I received the medicines which I ordered and I...</td>\n",
       "      <td>0.000</td>\n",
       "      <td>0.760</td>\n",
       "      <td>0.240</td>\n",
       "      <td>0.6948</td>\n",
       "    </tr>\n",
       "  </tbody>\n",
       "</table>\n",
       "</div>"
      ],
      "text/plain": [
       "   Id   ProductId          UserId     Product        company  Score  \\\n",
       "0   1  B001E4KFG0  A3SGXH7AUHU8GW  Paracetmol     AbbVie Ltd      5   \n",
       "1   2  B00813GRG4  A1D87F6ZCVE5NK  Paracetmol  Accord-UK Ltd      1   \n",
       "2   3  B000LQOCH0   ABXLMWJIXXAIN  Paracetmol  Aguettant Ltd      4   \n",
       "\n",
       "                                                Text    neg    neu    pos  \\\n",
       "0  I have bought the same medice from different b...  0.000  0.757  0.243   \n",
       "1              The medicine is not good as expected   0.286  0.714  0.000   \n",
       "2  I received the medicines which I ordered and I...  0.000  0.760  0.240   \n",
       "\n",
       "   compound  \n",
       "0    0.5927  \n",
       "1   -0.3412  \n",
       "2    0.6948  "
      ]
     },
     "execution_count": 19,
     "metadata": {},
     "output_type": "execute_result"
    }
   ],
   "source": [
    "# Merging the sentiments back to reviews dataframe\n",
    "df_c = pd.concat([df.reset_index(drop=True), df_sentiments], axis=1)\n",
    "df_c.head(3)\n"
   ]
  },
  {
   "cell_type": "code",
   "execution_count": 20,
   "metadata": {},
   "outputs": [
    {
     "data": {
      "text/html": [
       "<div>\n",
       "<style scoped>\n",
       "    .dataframe tbody tr th:only-of-type {\n",
       "        vertical-align: middle;\n",
       "    }\n",
       "\n",
       "    .dataframe tbody tr th {\n",
       "        vertical-align: top;\n",
       "    }\n",
       "\n",
       "    .dataframe thead th {\n",
       "        text-align: right;\n",
       "    }\n",
       "</style>\n",
       "<table border=\"1\" class=\"dataframe\">\n",
       "  <thead>\n",
       "    <tr style=\"text-align: right;\">\n",
       "      <th></th>\n",
       "      <th>Id</th>\n",
       "      <th>ProductId</th>\n",
       "      <th>UserId</th>\n",
       "      <th>Product</th>\n",
       "      <th>company</th>\n",
       "      <th>Score</th>\n",
       "      <th>Text</th>\n",
       "      <th>neg</th>\n",
       "      <th>neu</th>\n",
       "      <th>pos</th>\n",
       "      <th>compound</th>\n",
       "      <th>Sentiment</th>\n",
       "    </tr>\n",
       "  </thead>\n",
       "  <tbody>\n",
       "    <tr>\n",
       "      <th>0</th>\n",
       "      <td>1</td>\n",
       "      <td>B001E4KFG0</td>\n",
       "      <td>A3SGXH7AUHU8GW</td>\n",
       "      <td>Paracetmol</td>\n",
       "      <td>AbbVie Ltd</td>\n",
       "      <td>5</td>\n",
       "      <td>I have bought the same medice from different b...</td>\n",
       "      <td>0.000</td>\n",
       "      <td>0.757</td>\n",
       "      <td>0.243</td>\n",
       "      <td>0.5927</td>\n",
       "      <td>Positive</td>\n",
       "    </tr>\n",
       "    <tr>\n",
       "      <th>1</th>\n",
       "      <td>2</td>\n",
       "      <td>B00813GRG4</td>\n",
       "      <td>A1D87F6ZCVE5NK</td>\n",
       "      <td>Paracetmol</td>\n",
       "      <td>Accord-UK Ltd</td>\n",
       "      <td>1</td>\n",
       "      <td>The medicine is not good as expected</td>\n",
       "      <td>0.286</td>\n",
       "      <td>0.714</td>\n",
       "      <td>0.000</td>\n",
       "      <td>-0.3412</td>\n",
       "      <td>Negative</td>\n",
       "    </tr>\n",
       "    <tr>\n",
       "      <th>2</th>\n",
       "      <td>3</td>\n",
       "      <td>B000LQOCH0</td>\n",
       "      <td>ABXLMWJIXXAIN</td>\n",
       "      <td>Paracetmol</td>\n",
       "      <td>Aguettant Ltd</td>\n",
       "      <td>4</td>\n",
       "      <td>I received the medicines which I ordered and I...</td>\n",
       "      <td>0.000</td>\n",
       "      <td>0.760</td>\n",
       "      <td>0.240</td>\n",
       "      <td>0.6948</td>\n",
       "      <td>Positive</td>\n",
       "    </tr>\n",
       "    <tr>\n",
       "      <th>3</th>\n",
       "      <td>4</td>\n",
       "      <td>B000UA0QIQ</td>\n",
       "      <td>A395BORC6FGVXV</td>\n",
       "      <td>Paracetmol</td>\n",
       "      <td>AJ Vaccines A/S</td>\n",
       "      <td>3</td>\n",
       "      <td>The medicine is better</td>\n",
       "      <td>0.000</td>\n",
       "      <td>0.508</td>\n",
       "      <td>0.492</td>\n",
       "      <td>0.4404</td>\n",
       "      <td>Positive</td>\n",
       "    </tr>\n",
       "    <tr>\n",
       "      <th>4</th>\n",
       "      <td>5</td>\n",
       "      <td>B006K2ZZ7K</td>\n",
       "      <td>A1UQRSCLF8GW1T</td>\n",
       "      <td>Paracetmol</td>\n",
       "      <td>Allergan Ltd</td>\n",
       "      <td>2</td>\n",
       "      <td>I ordered some medicines using the website but...</td>\n",
       "      <td>0.143</td>\n",
       "      <td>0.826</td>\n",
       "      <td>0.032</td>\n",
       "      <td>-0.7218</td>\n",
       "      <td>Negative</td>\n",
       "    </tr>\n",
       "  </tbody>\n",
       "</table>\n",
       "</div>"
      ],
      "text/plain": [
       "   Id   ProductId          UserId     Product          company  Score  \\\n",
       "0   1  B001E4KFG0  A3SGXH7AUHU8GW  Paracetmol       AbbVie Ltd      5   \n",
       "1   2  B00813GRG4  A1D87F6ZCVE5NK  Paracetmol    Accord-UK Ltd      1   \n",
       "2   3  B000LQOCH0   ABXLMWJIXXAIN  Paracetmol    Aguettant Ltd      4   \n",
       "3   4  B000UA0QIQ  A395BORC6FGVXV  Paracetmol  AJ Vaccines A/S      3   \n",
       "4   5  B006K2ZZ7K  A1UQRSCLF8GW1T  Paracetmol     Allergan Ltd      2   \n",
       "\n",
       "                                                Text    neg    neu    pos  \\\n",
       "0  I have bought the same medice from different b...  0.000  0.757  0.243   \n",
       "1              The medicine is not good as expected   0.286  0.714  0.000   \n",
       "2  I received the medicines which I ordered and I...  0.000  0.760  0.240   \n",
       "3                            The medicine is better   0.000  0.508  0.492   \n",
       "4  I ordered some medicines using the website but...  0.143  0.826  0.032   \n",
       "\n",
       "   compound Sentiment  \n",
       "0    0.5927  Positive  \n",
       "1   -0.3412  Negative  \n",
       "2    0.6948  Positive  \n",
       "3    0.4404  Positive  \n",
       "4   -0.7218  Negative  "
      ]
     },
     "execution_count": 20,
     "metadata": {},
     "output_type": "execute_result"
    }
   ],
   "source": [
    "# Convert scores into positive and negetive sentiments using some threshold\n",
    "df_c['Sentiment'] = np.where(df_c['compound'] >= 0 , 'Positive','Negative')\n",
    "df_c.head(5)"
   ]
  },
  {
   "cell_type": "code",
   "execution_count": 21,
   "metadata": {},
   "outputs": [
    {
     "data": {
      "image/png": "[encoded data removed]",
      "text/plain": [
       "<Figure size 432x288 with 1 Axes>"
      ]
     },
     "metadata": {},
     "output_type": "display_data"
    }
   ],
   "source": [
    "result=df_c['Sentiment'].value_counts()\n",
    "result.plot(kind='bar', rot=0, color=['green','red']);"
   ]
  },
  {
   "cell_type": "code",
   "execution_count": null,
   "metadata": {},
   "outputs": [],
   "source": []
  }
 ],
 "metadata": {
  "kernelspec": {
   "display_name": "Python 3",
   "language": "python",
   "name": "python3"
  },
  "language_info": {
   "codemirror_mode": {
    "name": "ipython",
    "version": 3
   },
   "file_extension": ".py",
   "mimetype": "text/x-python",
   "name": "python",
   "nbconvert_exporter": "python",
   "pygments_lexer": "ipython3",
   "version": "3.8.5"
  }
 },
 "nbformat": 4,
 "nbformat_minor": 4
}
